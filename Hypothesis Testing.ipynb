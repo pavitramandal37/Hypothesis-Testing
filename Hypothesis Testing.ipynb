{
 "cells": [
  {
   "cell_type": "code",
   "execution_count": 5,
   "id": "76216abf",
   "metadata": {},
   "outputs": [],
   "source": [
    "import pandas as pd\n",
    "import numpy as np\n",
    "from scipy import stats\n",
    "from sklearn.preprocessing import MinMaxScaler\n"
   ]
  },
  {
   "cell_type": "markdown",
   "id": "88136be9",
   "metadata": {},
   "source": [
    "**1) A F&B manager wants to determine whether there is any significant \n",
    "difference in the diameter of the cutlet between two units. A randomly \n",
    "selected sample of cutlets was collected from both units and measured? \n",
    "Analyze the data and draw inferences at 5% significance level. Please state \n",
    "the assumptions and tests that you carried out to check validity of the \n",
    "assumptions.**\n",
    "\n",
    "**File**: Cutlets.csv"
   ]
  },
  {
   "cell_type": "code",
   "execution_count": 20,
   "id": "f5bb5da7",
   "metadata": {},
   "outputs": [],
   "source": [
    "df1 = pd.read_csv(r'E:\\Study Materials DATA SCIENCE\\360digitmg\\Assingment Folder\\Assingment 21 Hypothesis Technique\\Datasets_HT\\Cutlets.csv')\n",
    "\n",
    "df1.dropna(inplace = True)"
   ]
  },
  {
   "cell_type": "code",
   "execution_count": 21,
   "id": "a8a9db67",
   "metadata": {},
   "outputs": [],
   "source": [
    "df1.columns = \"unita\", \"unitb\""
   ]
  },
  {
   "cell_type": "code",
   "execution_count": 36,
   "id": "ae387765",
   "metadata": {},
   "outputs": [
    {
     "name": "stdout",
     "output_type": "stream",
     "text": [
      "Unit A: ShapiroResult(statistic=0.9649458527565002, pvalue=0.3199819028377533)\n",
      "Unit B: ShapiroResult(statistic=0.9727300405502319, pvalue=0.5224985480308533)\n"
     ]
    }
   ],
   "source": [
    "# Normality Test\n",
    "print('Unit A:',stats.shapiro(df1['unita']))\n",
    "print('Unit B:',stats.shapiro(df1['unitb']))\n",
    "# p value = 0.32 > 0.05 = Null hypothesis is passed"
   ]
  },
  {
   "cell_type": "code",
   "execution_count": 26,
   "id": "648872e5",
   "metadata": {},
   "outputs": [
    {
     "data": {
      "text/plain": [
       "LeveneResult(statistic=0.6650897638632386, pvalue=0.4176162212502553)"
      ]
     },
     "execution_count": 26,
     "metadata": {},
     "output_type": "execute_result"
    }
   ],
   "source": [
    "# Variance test\n",
    "stats.levene(df1['unita'], df1['unitb']) \n",
    "\n",
    "# # p value = 0.42 > 0.05 = Equal variance"
   ]
  },
  {
   "cell_type": "code",
   "execution_count": 27,
   "id": "6849dd28",
   "metadata": {},
   "outputs": [
    {
     "data": {
      "text/plain": [
       "Ttest_indResult(statistic=0.7228688704678063, pvalue=0.4722394724599501)"
      ]
     },
     "execution_count": 27,
     "metadata": {},
     "output_type": "execute_result"
    }
   ],
   "source": [
    "# 2 sample T test\n",
    "stats.ttest_ind(df1['unita'], df1['unitb'])\n",
    "\n",
    "#p-value > 0.05\n",
    "#p-value=0.4722394724599501 the there is no difference in diameter because of high p values"
   ]
  },
  {
   "cell_type": "markdown",
   "id": "dcc93356",
   "metadata": {},
   "source": [
    "**2.) A hospital wants to determine whether there is any difference in the \n",
    "average Turn Around Time (TAT) of reports of the laboratories on their \n",
    "preferred list. They collected a random sample and recorded TAT for \n",
    "reports of 4 laboratories. TAT is defined as sample collected to report \n",
    "dispatch.\n",
    "Analyze the data and determine whether there is any difference in \n",
    "average TAT among the different laboratories at 5% significance level.**\n",
    "\n",
    "**File:** LabTAT.csv"
   ]
  },
  {
   "cell_type": "code",
   "execution_count": 33,
   "id": "7ab2e2cd",
   "metadata": {},
   "outputs": [
    {
     "data": {
      "text/html": [
       "<div>\n",
       "<style scoped>\n",
       "    .dataframe tbody tr th:only-of-type {\n",
       "        vertical-align: middle;\n",
       "    }\n",
       "\n",
       "    .dataframe tbody tr th {\n",
       "        vertical-align: top;\n",
       "    }\n",
       "\n",
       "    .dataframe thead th {\n",
       "        text-align: right;\n",
       "    }\n",
       "</style>\n",
       "<table border=\"1\" class=\"dataframe\">\n",
       "  <thead>\n",
       "    <tr style=\"text-align: right;\">\n",
       "      <th></th>\n",
       "      <th>Laboratory_1</th>\n",
       "      <th>Laboratory_2</th>\n",
       "      <th>Laboratory_3</th>\n",
       "      <th>Laboratory_4</th>\n",
       "    </tr>\n",
       "  </thead>\n",
       "  <tbody>\n",
       "    <tr>\n",
       "      <th>0</th>\n",
       "      <td>185.35</td>\n",
       "      <td>165.53</td>\n",
       "      <td>176.70</td>\n",
       "      <td>166.13</td>\n",
       "    </tr>\n",
       "    <tr>\n",
       "      <th>1</th>\n",
       "      <td>170.49</td>\n",
       "      <td>185.91</td>\n",
       "      <td>198.45</td>\n",
       "      <td>160.79</td>\n",
       "    </tr>\n",
       "    <tr>\n",
       "      <th>2</th>\n",
       "      <td>192.77</td>\n",
       "      <td>194.92</td>\n",
       "      <td>201.23</td>\n",
       "      <td>185.18</td>\n",
       "    </tr>\n",
       "    <tr>\n",
       "      <th>3</th>\n",
       "      <td>177.33</td>\n",
       "      <td>183.00</td>\n",
       "      <td>199.61</td>\n",
       "      <td>176.42</td>\n",
       "    </tr>\n",
       "    <tr>\n",
       "      <th>4</th>\n",
       "      <td>193.41</td>\n",
       "      <td>169.57</td>\n",
       "      <td>204.63</td>\n",
       "      <td>152.60</td>\n",
       "    </tr>\n",
       "  </tbody>\n",
       "</table>\n",
       "</div>"
      ],
      "text/plain": [
       "   Laboratory_1  Laboratory_2  Laboratory_3  Laboratory_4\n",
       "0        185.35        165.53        176.70        166.13\n",
       "1        170.49        185.91        198.45        160.79\n",
       "2        192.77        194.92        201.23        185.18\n",
       "3        177.33        183.00        199.61        176.42\n",
       "4        193.41        169.57        204.63        152.60"
      ]
     },
     "execution_count": 33,
     "metadata": {},
     "output_type": "execute_result"
    }
   ],
   "source": [
    "df2 = pd.read_csv(r'E:\\Study Materials DATA SCIENCE\\360digitmg\\Assingment Folder\\Assingment 21 Hypothesis Technique\\Datasets_HT\\lab_tat_updated.csv')\n",
    "df2.head()"
   ]
  },
  {
   "cell_type": "code",
   "execution_count": 37,
   "id": "14b2e25c",
   "metadata": {},
   "outputs": [
    {
     "name": "stdout",
     "output_type": "stream",
     "text": [
      "Laboratory_1 ShapiroResult(statistic=0.9886691570281982, pvalue=0.42317795753479004)\n",
      "Laboratory_2 ShapiroResult(statistic=0.9936322569847107, pvalue=0.8637524843215942)\n",
      "Laboratory_3 ShapiroResult(statistic=0.9796067476272583, pvalue=0.06547004729509354)\n"
     ]
    }
   ],
   "source": [
    "# Normality Test\n",
    "print('Laboratory_1',stats.shapiro(df2.Laboratory_1)) # Shapiro Test\n",
    "print('Laboratory_2',stats.shapiro(df2.Laboratory_2)) # Shapiro Test\n",
    "print('Laboratory_3',stats.shapiro(df2.Laboratory_3)) # Shapiro Test\n",
    "\n",
    "# p value = 0.32 > 0.05 = Null hypothesis is passed"
   ]
  },
  {
   "cell_type": "code",
   "execution_count": 39,
   "id": "ffa8cbe1",
   "metadata": {},
   "outputs": [
    {
     "name": "stdout",
     "output_type": "stream",
     "text": [
      "Variance test: LeveneResult(statistic=1.5377583444327503, pvalue=0.21628196457198148)\n"
     ]
    }
   ],
   "source": [
    "# Variance test\n",
    "#help(scipy.stats.levene)\n",
    "# All 3 suppliers are being checked for variances\n",
    "print('Variance test:',stats.levene(df2.Laboratory_1, df2.Laboratory_2, df2.Laboratory_3))\n",
    "\n",
    "# # p value = 0.42 > 0.05 = Equal variance"
   ]
  },
  {
   "cell_type": "code",
   "execution_count": 41,
   "id": "d26fdb9b",
   "metadata": {},
   "outputs": [
    {
     "name": "stdout",
     "output_type": "stream",
     "text": [
      "p value: 1.0799252415207089e-30\n"
     ]
    }
   ],
   "source": [
    "# One - Way Anova\n",
    "F, p = stats.f_oneway(df2.Laboratory_1, df2.Laboratory_2, df2.Laboratory_3)\n",
    "print('p value:', p)\n",
    "\n",
    "#p-value < 0.05\n",
    "# All the 3 laboratories have equal mean difference in TAT time"
   ]
  },
  {
   "cell_type": "markdown",
   "id": "dd3f066a",
   "metadata": {},
   "source": [
    "**3.) Sales of products in four different regions is tabulated for males and \n",
    "females. Find if male-female buyer rations are similar across regions.\n",
    " East West North South**\n",
    "\n",
    "**File:** Buyerratio.csv"
   ]
  },
  {
   "cell_type": "code",
   "execution_count": 74,
   "id": "2c97a44f",
   "metadata": {},
   "outputs": [
    {
     "data": {
      "text/html": [
       "<div>\n",
       "<style scoped>\n",
       "    .dataframe tbody tr th:only-of-type {\n",
       "        vertical-align: middle;\n",
       "    }\n",
       "\n",
       "    .dataframe tbody tr th {\n",
       "        vertical-align: top;\n",
       "    }\n",
       "\n",
       "    .dataframe thead th {\n",
       "        text-align: right;\n",
       "    }\n",
       "</style>\n",
       "<table border=\"1\" class=\"dataframe\">\n",
       "  <thead>\n",
       "    <tr style=\"text-align: right;\">\n",
       "      <th></th>\n",
       "      <th>Observed Values</th>\n",
       "      <th>East</th>\n",
       "      <th>West</th>\n",
       "      <th>North</th>\n",
       "      <th>South</th>\n",
       "    </tr>\n",
       "  </thead>\n",
       "  <tbody>\n",
       "    <tr>\n",
       "      <th>0</th>\n",
       "      <td>Males</td>\n",
       "      <td>50</td>\n",
       "      <td>142</td>\n",
       "      <td>131</td>\n",
       "      <td>70</td>\n",
       "    </tr>\n",
       "    <tr>\n",
       "      <th>1</th>\n",
       "      <td>Females</td>\n",
       "      <td>435</td>\n",
       "      <td>1523</td>\n",
       "      <td>1356</td>\n",
       "      <td>750</td>\n",
       "    </tr>\n",
       "  </tbody>\n",
       "</table>\n",
       "</div>"
      ],
      "text/plain": [
       "  Observed Values  East  West  North  South\n",
       "0           Males    50   142    131     70\n",
       "1         Females   435  1523   1356    750"
      ]
     },
     "execution_count": 74,
     "metadata": {},
     "output_type": "execute_result"
    }
   ],
   "source": [
    "df3 = pd.read_csv(r'E:\\Study Materials DATA SCIENCE\\360digitmg\\Assingment Folder\\Assingment 21 Hypothesis Technique\\Datasets_HT\\Buyerratio.csv')\n",
    "df3.head()"
   ]
  },
  {
   "cell_type": "code",
   "execution_count": 99,
   "id": "aa222a18",
   "metadata": {},
   "outputs": [
    {
     "data": {
      "text/plain": [
       "Index(['Gender', 'East', 'West', 'North', 'South'], dtype='object')"
      ]
     },
     "execution_count": 99,
     "metadata": {},
     "output_type": "execute_result"
    }
   ],
   "source": [
    "#Rename of Column name\n",
    "df3.rename(columns={\"Observed Values\":\"Gender\"}, inplace=True)\n",
    "df3.columns"
   ]
  },
  {
   "cell_type": "code",
   "execution_count": 101,
   "id": "7ab69219",
   "metadata": {
    "scrolled": true
   },
   "outputs": [
    {
     "data": {
      "text/html": [
       "<div>\n",
       "<style scoped>\n",
       "    .dataframe tbody tr th:only-of-type {\n",
       "        vertical-align: middle;\n",
       "    }\n",
       "\n",
       "    .dataframe tbody tr th {\n",
       "        vertical-align: top;\n",
       "    }\n",
       "\n",
       "    .dataframe thead th {\n",
       "        text-align: right;\n",
       "    }\n",
       "</style>\n",
       "<table border=\"1\" class=\"dataframe\">\n",
       "  <thead>\n",
       "    <tr style=\"text-align: right;\">\n",
       "      <th></th>\n",
       "      <th>Gender</th>\n",
       "      <th>East</th>\n",
       "      <th>West</th>\n",
       "      <th>North</th>\n",
       "      <th>South</th>\n",
       "    </tr>\n",
       "  </thead>\n",
       "  <tbody>\n",
       "    <tr>\n",
       "      <th>0</th>\n",
       "      <td>0</td>\n",
       "      <td>50</td>\n",
       "      <td>142</td>\n",
       "      <td>131</td>\n",
       "      <td>70</td>\n",
       "    </tr>\n",
       "    <tr>\n",
       "      <th>1</th>\n",
       "      <td>1</td>\n",
       "      <td>435</td>\n",
       "      <td>1523</td>\n",
       "      <td>1356</td>\n",
       "      <td>750</td>\n",
       "    </tr>\n",
       "  </tbody>\n",
       "</table>\n",
       "</div>"
      ],
      "text/plain": [
       "   Gender  East  West  North  South\n",
       "0       0    50   142    131     70\n",
       "1       1   435  1523   1356    750"
      ]
     },
     "execution_count": 101,
     "metadata": {},
     "output_type": "execute_result"
    }
   ],
   "source": [
    "#replacing the gender with 0 and 1\n",
    "df3[\"Gender\"].replace(\"Males\", 0 , inplace = True)\n",
    "df3[\"Gender\"].replace(\"Females\", 1 , inplace = True)\n",
    "df3"
   ]
  },
  {
   "cell_type": "code",
   "execution_count": 103,
   "id": "36357096",
   "metadata": {},
   "outputs": [
    {
     "data": {
      "text/plain": [
       "(1.6929696469183673,\n",
       " 0.7919942975413565,\n",
       " 4,\n",
       " array([[8.81561238e-02, 4.27557201e+01, 1.46779946e+02, 1.31088156e+02,\n",
       "         7.22880215e+01],\n",
       "        [9.11843876e-01, 4.42244280e+02, 1.51822005e+03, 1.35591184e+03,\n",
       "         7.47711978e+02]]))"
      ]
     },
     "execution_count": 103,
     "metadata": {},
     "output_type": "execute_result"
    }
   ],
   "source": [
    "Chisquare_results = stats.chi2_contingency(df3)\n",
    "Chisquare_results "
   ]
  },
  {
   "cell_type": "code",
   "execution_count": 104,
   "id": "e53ac704",
   "metadata": {},
   "outputs": [
    {
     "data": {
      "text/plain": [
       "[['Test statistics', 'p-value'], [1.6929696469183673, 0.7919942975413565]]"
      ]
     },
     "execution_count": 104,
     "metadata": {},
     "output_type": "execute_result"
    }
   ],
   "source": [
    "Chi_square = [[\"Test statistics\", \"p-value\"],[Chisquare_results[0],Chisquare_results[1]]]\n",
    "Chi_square\n",
    "#AS p = 0.7919942975413565 p > 0.05 so Fails to reject null hypothesis"
   ]
  },
  {
   "cell_type": "code",
   "execution_count": null,
   "id": "005ecdd5",
   "metadata": {},
   "outputs": [],
   "source": []
  },
  {
   "cell_type": "code",
   "execution_count": 110,
   "id": "0ae182b4",
   "metadata": {},
   "outputs": [
    {
     "name": "stdout",
     "output_type": "stream",
     "text": [
      "West  142   1523\n",
      "East            \n",
      "50       1     0\n",
      "435      0     1\n",
      "\n",
      "(0.0, 1.0, 1, array([[0.5, 0.5],\n",
      "       [0.5, 0.5]]))\n"
     ]
    },
    {
     "data": {
      "text/plain": [
       "[['Test Statistic', 'p-value'], [0.0, 1.0]]"
      ]
     },
     "execution_count": 110,
     "metadata": {},
     "output_type": "execute_result"
    }
   ],
   "source": [
    "count = pd.crosstab(df3[\"East\"], df3[\"West\"])\n",
    "print(count)\n",
    "\n",
    "print('')\n",
    "# In[37]:\n",
    "\n",
    "\n",
    "Chisquares_results = stats.chi2_contingency(count)\n",
    "print(Chisquares_results)\n",
    "Chi_square = [['Test Statistic', 'p-value'], [Chisquares_results[0], Chisquares_results[1]]]\n",
    "Chi_square"
   ]
  },
  {
   "cell_type": "markdown",
   "id": "90fdd88e",
   "metadata": {},
   "source": [
    "**4.) Telecall uses 4 centers around the globe to process customer order forms. \n",
    "They audit a certain % of the customer order forms. Any error in order form \n",
    "renders it defective and must be reworked before processing. The manager \n",
    "wants to check whether the defective % varies by center. Please analyze \n",
    "the data at 5% significance level and help the manager draw appropriate \n",
    "inferences**\n",
    "\n",
    "**File:** Customer OrderForm.csv"
   ]
  },
  {
   "cell_type": "code",
   "execution_count": 82,
   "id": "8dcd7ddf",
   "metadata": {},
   "outputs": [
    {
     "data": {
      "text/html": [
       "<div>\n",
       "<style scoped>\n",
       "    .dataframe tbody tr th:only-of-type {\n",
       "        vertical-align: middle;\n",
       "    }\n",
       "\n",
       "    .dataframe tbody tr th {\n",
       "        vertical-align: top;\n",
       "    }\n",
       "\n",
       "    .dataframe thead th {\n",
       "        text-align: right;\n",
       "    }\n",
       "</style>\n",
       "<table border=\"1\" class=\"dataframe\">\n",
       "  <thead>\n",
       "    <tr style=\"text-align: right;\">\n",
       "      <th></th>\n",
       "      <th>Phillippines</th>\n",
       "      <th>Indonesia</th>\n",
       "      <th>Malta</th>\n",
       "      <th>India</th>\n",
       "    </tr>\n",
       "  </thead>\n",
       "  <tbody>\n",
       "    <tr>\n",
       "      <th>0</th>\n",
       "      <td>Error Free</td>\n",
       "      <td>Error Free</td>\n",
       "      <td>Defective</td>\n",
       "      <td>Error Free</td>\n",
       "    </tr>\n",
       "    <tr>\n",
       "      <th>1</th>\n",
       "      <td>Error Free</td>\n",
       "      <td>Error Free</td>\n",
       "      <td>Error Free</td>\n",
       "      <td>Defective</td>\n",
       "    </tr>\n",
       "    <tr>\n",
       "      <th>2</th>\n",
       "      <td>Error Free</td>\n",
       "      <td>Defective</td>\n",
       "      <td>Defective</td>\n",
       "      <td>Error Free</td>\n",
       "    </tr>\n",
       "    <tr>\n",
       "      <th>3</th>\n",
       "      <td>Error Free</td>\n",
       "      <td>Error Free</td>\n",
       "      <td>Error Free</td>\n",
       "      <td>Error Free</td>\n",
       "    </tr>\n",
       "    <tr>\n",
       "      <th>4</th>\n",
       "      <td>Error Free</td>\n",
       "      <td>Error Free</td>\n",
       "      <td>Defective</td>\n",
       "      <td>Error Free</td>\n",
       "    </tr>\n",
       "  </tbody>\n",
       "</table>\n",
       "</div>"
      ],
      "text/plain": [
       "  Phillippines   Indonesia       Malta       India\n",
       "0   Error Free  Error Free   Defective  Error Free\n",
       "1   Error Free  Error Free  Error Free   Defective\n",
       "2   Error Free   Defective   Defective  Error Free\n",
       "3   Error Free  Error Free  Error Free  Error Free\n",
       "4   Error Free  Error Free   Defective  Error Free"
      ]
     },
     "execution_count": 82,
     "metadata": {},
     "output_type": "execute_result"
    }
   ],
   "source": [
    "df4 = pd.read_csv(r'E:\\Study Materials DATA SCIENCE\\360digitmg\\Assingment Folder\\Assingment 21 Hypothesis Technique\\Datasets_HT\\CustomerOrderform.csv')\n",
    "df4.dropna(inplace=True)\n",
    "df4.head()"
   ]
  },
  {
   "cell_type": "code",
   "execution_count": 83,
   "id": "a4b1d31a",
   "metadata": {},
   "outputs": [
    {
     "name": "stdout",
     "output_type": "stream",
     "text": [
      "Phillippines    0\n",
      "Indonesia       0\n",
      "Malta           0\n",
      "India           0\n",
      "dtype: int64\n"
     ]
    }
   ],
   "source": [
    "print(df4.isnull().sum())"
   ]
  },
  {
   "cell_type": "code",
   "execution_count": 86,
   "id": "a9252815",
   "metadata": {},
   "outputs": [
    {
     "name": "stdout",
     "output_type": "stream",
     "text": [
      "Indonesia     Defective  Error Free\n",
      "Phillippines                       \n",
      "Defective             2          27\n",
      "Error Free           31         240\n",
      "---------------------------------------\n",
      "Result of Phillippines & Indonesia: [['Test Statistic', 'p-value'], [0.1856391005881107, 0.6665712150680798]]\n"
     ]
    }
   ],
   "source": [
    "# chi- Square test (between Phillippines & Indonesia)\n",
    "\n",
    "count = pd.crosstab(df4[\"Phillippines\"], df4[\"Indonesia\"])\n",
    "print(count)\n",
    "print('---------------------------------------')\n",
    "\n",
    "# 2 sample T Test\n",
    "Chisquares_results = stats.chi2_contingency(count)\n",
    "\n",
    "Chi_square = [['Test Statistic', 'p-value'], [Chisquares_results[0], Chisquares_results[1]]]\n",
    "print('Result of Phillippines & Indonesia:',Chi_square)"
   ]
  },
  {
   "cell_type": "code",
   "execution_count": 88,
   "id": "b685720a",
   "metadata": {},
   "outputs": [
    {
     "name": "stdout",
     "output_type": "stream",
     "text": [
      "India       Defective  Error Free\n",
      "Malta                            \n",
      "Defective           0          31\n",
      "Error Free         20         249\n",
      "---------------------------------------\n",
      "Result of Phillippines & Indonesia: [['Test Statistic', 'p-value'], [1.419106436194816, 0.23355053527979247]]\n"
     ]
    }
   ],
   "source": [
    "# chi- Square test (between Malta & India)\n",
    "count = pd.crosstab(df4[\"Malta\"], df4[\"India\"])\n",
    "print(count)\n",
    "print('---------------------------------------')\n",
    "\n",
    "# 2 sample T Test\n",
    "Chisquares_results = stats.chi2_contingency(count)\n",
    "\n",
    "Chi_square = [['Test Statistic', 'p-value'], [Chisquares_results[0], Chisquares_results[1]]]\n",
    "print('Result of Phillippines & Indonesia:',Chi_square)"
   ]
  },
  {
   "cell_type": "markdown",
   "id": "2d24afe5",
   "metadata": {},
   "source": [
    "**5.) Fantaloons Sales managers commented that % of males versus females \n",
    "walking into the store differ based on day of the week. Analyze the data \n",
    "and determine whether there is evidence at 5 % significance level to \n",
    "support this hypothesis.**\n",
    "\n",
    "**File:** Fantaloons.csv"
   ]
  },
  {
   "cell_type": "code",
   "execution_count": 92,
   "id": "671a74b3",
   "metadata": {},
   "outputs": [
    {
     "data": {
      "text/html": [
       "<div>\n",
       "<style scoped>\n",
       "    .dataframe tbody tr th:only-of-type {\n",
       "        vertical-align: middle;\n",
       "    }\n",
       "\n",
       "    .dataframe tbody tr th {\n",
       "        vertical-align: top;\n",
       "    }\n",
       "\n",
       "    .dataframe thead th {\n",
       "        text-align: right;\n",
       "    }\n",
       "</style>\n",
       "<table border=\"1\" class=\"dataframe\">\n",
       "  <thead>\n",
       "    <tr style=\"text-align: right;\">\n",
       "      <th></th>\n",
       "      <th>Weekdays</th>\n",
       "      <th>Weekend</th>\n",
       "    </tr>\n",
       "  </thead>\n",
       "  <tbody>\n",
       "    <tr>\n",
       "      <th>0</th>\n",
       "      <td>Male</td>\n",
       "      <td>Female</td>\n",
       "    </tr>\n",
       "    <tr>\n",
       "      <th>1</th>\n",
       "      <td>Female</td>\n",
       "      <td>Male</td>\n",
       "    </tr>\n",
       "    <tr>\n",
       "      <th>2</th>\n",
       "      <td>Female</td>\n",
       "      <td>Male</td>\n",
       "    </tr>\n",
       "    <tr>\n",
       "      <th>3</th>\n",
       "      <td>Male</td>\n",
       "      <td>Female</td>\n",
       "    </tr>\n",
       "    <tr>\n",
       "      <th>4</th>\n",
       "      <td>Female</td>\n",
       "      <td>Female</td>\n",
       "    </tr>\n",
       "  </tbody>\n",
       "</table>\n",
       "</div>"
      ],
      "text/plain": [
       "  Weekdays Weekend\n",
       "0     Male  Female\n",
       "1   Female    Male\n",
       "2   Female    Male\n",
       "3     Male  Female\n",
       "4   Female  Female"
      ]
     },
     "execution_count": 92,
     "metadata": {},
     "output_type": "execute_result"
    }
   ],
   "source": [
    "df5 = pd.read_csv(r'E:\\Study Materials DATA SCIENCE\\360digitmg\\Assingment Folder\\Assingment 21 Hypothesis Technique\\Datasets_HT\\Fantaloons.csv')\n",
    "df5.dropna()\n",
    "df5.head()"
   ]
  },
  {
   "cell_type": "code",
   "execution_count": 93,
   "id": "1cfe5496",
   "metadata": {},
   "outputs": [
    {
     "name": "stdout",
     "output_type": "stream",
     "text": [
      "Weekend   Female  Male\n",
      "Weekdays              \n",
      "Female       167   120\n",
      "Male          66    47\n",
      "---------------------------------------\n",
      "Result of Weekdays & Weekend: [['Test Statistic', 'p-value'], [0.005274808283592733, 0.9421022439386241]]\n"
     ]
    }
   ],
   "source": [
    "# chi- Square test (between Weekdays & Weekend)\n",
    "\n",
    "count = pd.crosstab(df5[\"Weekdays\"], df5[\"Weekend\"])\n",
    "print(count)\n",
    "print('---------------------------------------')\n",
    "\n",
    "# 2 sample T Test\n",
    "Chisquares_results = stats.chi2_contingency(count)\n",
    "\n",
    "Chi_square = [['Test Statistic', 'p-value'], [Chisquares_results[0], Chisquares_results[1]]]\n",
    "print('Result of Weekdays & Weekend:',Chi_square)"
   ]
  },
  {
   "cell_type": "code",
   "execution_count": null,
   "id": "11ab4662",
   "metadata": {},
   "outputs": [],
   "source": []
  }
 ],
 "metadata": {
  "kernelspec": {
   "display_name": "Python 3",
   "language": "python",
   "name": "python3"
  },
  "language_info": {
   "codemirror_mode": {
    "name": "ipython",
    "version": 3
   },
   "file_extension": ".py",
   "mimetype": "text/x-python",
   "name": "python",
   "nbconvert_exporter": "python",
   "pygments_lexer": "ipython3",
   "version": "3.8.8"
  }
 },
 "nbformat": 4,
 "nbformat_minor": 5
}
